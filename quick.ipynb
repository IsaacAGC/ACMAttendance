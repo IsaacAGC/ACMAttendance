{
 "cells": [
  {
   "cell_type": "markdown",
   "id": "420fd5d7-0e42-4eb8-ade3-0d769820ea54",
   "metadata": {},
   "source": [
    "# ACM Attendance Counter\n",
    "1. Create attendance folder containing CSV's and dumping data from highlanderhub into it\n",
    "2. Run code block Step 2, and output should be total_attendance.csv"
   ]
  },
  {
   "cell_type": "code",
   "execution_count": 14,
   "id": "25f2d4cf-5640-4096-b6ae-1c9b2da81a86",
   "metadata": {},
   "outputs": [
    {
     "name": "stdout",
     "output_type": "stream",
     "text": [
      "mkdir: cannot create directory ‘attendance’: File exists\n",
      "Folder Created\n",
      "Please dump files into \"./attendance\" and run Step 2\n"
     ]
    }
   ],
   "source": [
    "# Step 1\n",
    "! mkdir attendance\n",
    "print(\"Folder Created\")\n",
    "print (\"Please dump files into \\\"./attendance\\\" and run Step 2\")"
   ]
  },
  {
   "cell_type": "code",
   "execution_count": 18,
   "id": "96a6064f-f3a9-4e2e-9c87-a8fd1e48be73",
   "metadata": {},
   "outputs": [
   ],
   "source": [
    "# Step 2\n",
    "from itertools import islice\n",
    "import os\n",
    "\n",
    "def import_csv(flo):\n",
    "    ucids = []\n",
    "    for line in islice(flo, 3, None):\n",
    "        spl = line.replace(\"\\x00\", \"\").split(\"\\t\")\n",
    "        for i in spl:\n",
    "            letter_list = i.split(\",\")\n",
    "            if len(letter_list) > 3:\n",
    "                ucid = letter_list[2].strip().split(\"@\")[0]\n",
    "                if ucid == \"\":\n",
    "                    continue\n",
    "                if ucid == \"Campus Email\":\n",
    "                    continue\n",
    "                if ucid[0] == \"\\\"\":\n",
    "                    ucid=ucid[1:]\n",
    "                first_name = letter_list[0].replace(\"\\\"\", \"\")\n",
    "                last_name = letter_list[1].replace(\"\\\"\", \"\")\n",
    "                name = first_name + \" \" + last_name + \", \" + ucid\n",
    "                if name not in ucids:\n",
    "                    ucids.append(name)\n",
    "\n",
    "    return ucids\n",
    "\n",
    "\n",
    "files = os.listdir(\"./attendance\")\n",
    "\n",
    "counts = {}\n",
    "\n",
    "for filename in files:\n",
    "    inFile = \"./attendance/\"+filename\n",
    "    with open(inFile) as f:\n",
    "        for ucid in import_csv(f):\n",
    "            if ucid not in counts:\n",
    "                counts[ucid] = 1\n",
    "            else:\n",
    "                counts[ucid] += 1\n",
    "                \n",
    "with open(\"total_attendance.csv\", \"w\") as f:\n",
    "    f.write(\"UCID,Name,Meetings Attended\\n\")\n",
    "    for ucid, count in reversed(sorted(counts.items(), key=lambda x: x[1])):\n",
    "        ucid = ucid.split(\",\")\n",
    "        print(ucid[0], ucid[1], count)\n",
    "        f.write(f\"{ucid[1]},{ucid[0]},{count}\\n\")\n",
    "print(\"done\")"
   ]
  },
  {
   "cell_type": "code",
   "execution_count": 16,
   "id": "666a1a61-4f33-4525-ad9a-a63bfe8016db",
   "metadata": {},
   "outputs": [
   
   ],
   "source": [
    "# Step 2\n",
    "from itertools import islice\n",
    "import os\n",
    "\n",
    "def import_csv(flo):\n",
    "    ucids = []\n",
    "    for line in islice(flo, 3, None):\n",
    "        spl = line.replace(\"\\x00\", \"\").split(\"\\t\")\n",
    "        for i in spl:\n",
    "            letter_list = i.split(\",\")\n",
    "            if len(letter_list) > 3:\n",
    "                ucid = letter_list[2].strip().split(\"@\")[0]\n",
    "                if ucid == \"\":\n",
    "                    continue\n",
    "                if ucid == \"Campus Email\":\n",
    "                    continue\n",
    "                if ucid[0] == \"\\\"\":\n",
    "                    ucid=ucid[1:]\n",
    "                first_name = letter_list[0].replace(\"\\\"\", \"\")\n",
    "                last_name = letter_list[1].replace(\"\\\"\", \"\")\n",
    "                name = first_name + \" \" + last_name + \", \" + ucid\n",
    "                if name not in ucids:\n",
    "                    ucids.append(name)\n",
    "\n",
    "    return ucids\n",
    "\n",
    "\n",
    "files = os.listdir(\"./attendance\")\n",
    "\n",
    "counts = {}\n",
    "\n",
    "for filename in files:\n",
    "    inFile = \"./attendance/\"+filename\n",
    "    with open(inFile) as f:\n",
    "        for ucid in import_csv(f):\n",
    "            if ucid not in counts:\n",
    "                counts[ucid] = 1\n",
    "            else:\n",
    "                counts[ucid] += 1\n",
    "                \n",
    "with open(\"total_attendance.csv\", \"w\") as f:\n",
    "    f.write(\"UCID,Name,Meetings Attended\\n\")\n",
    "    for ucid, count in reversed(sorted(counts.items(), key=lambda x: x[1])):\n",
    "        ucid = ucid.split(\",\")\n",
    "        print(ucid[0], ucid[1], count)\n",
    "        f.write(f\"{ucid[1]},{ucid[0]},{count}\\n\")\n",
    "print(\"done\")"
   ]
  },
  {
   "cell_type": "code",
   "execution_count": null,
   "id": "34cddfc9-078d-4f0a-854c-35ec63e6d606",
   "metadata": {},
   "outputs": [],
   "source": []
  }
 ],
 "metadata": {
  "kernelspec": {
   "display_name": "Python 3 (ipykernel)",
   "language": "python",
   "name": "python3"
  },
  "language_info": {
   "codemirror_mode": {
    "name": "ipython",
    "version": 3
   },
   "file_extension": ".py",
   "mimetype": "text/x-python",
   "name": "python",
   "nbconvert_exporter": "python",
   "pygments_lexer": "ipython3",
   "version": "3.10.4"
  }
 },
 "nbformat": 4,
 "nbformat_minor": 5
}
